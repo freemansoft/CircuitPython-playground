{
 "cells": [
  {
   "cell_type": "code",
   "execution_count": null,
   "id": "20e05e84-e7b3-4c5d-9a33-4b9f491f0eab",
   "metadata": {
    "scrolled": true
   },
   "outputs": [],
   "source": [
    "%env BLINKA_U2IF=1 \n",
    "import time\n",
    "\n",
    "import board\n",
    "import pwmio\n",
    "from adafruit_motor import servo\n",
    "\n",
    "dir(board)\n",
    "\n",
    "# create a PWMOut object on Pin D5.\n",
    "pwm = pwmio.PWMOut(board.GP14, duty_cycle=2**15, frequency=50)\n",
    "pwm2 = pwmio.PWMOut(board.GP15, duty_cycle=2**15, frequency=50)\n",
    "\n",
    "# Create a servo object.\n",
    "servo1 = servo.Servo(pwm)\n",
    "servo2 = servo.Servo(pwm2)\n",
    "\n",
    "while True:\n",
    "    for angle in range(0, 180, 5):  # 0 - 180 degrees, 5 degrees at a time.\n",
    "        servo1.angle = angle\n",
    "        servo2.angle = angle\n",
    "        time.sleep(0.05)\n",
    "    for angle in range(180, 0, -5):  # 180 - 0 degrees, 5 degrees at a time.\n",
    "        servo1.angle = angle\n",
    "        servo2.angle = angle\n",
    "        time.sleep(0.05)\n"
   ]
  },
  {
   "cell_type": "code",
   "execution_count": null,
   "id": "aef12518-884e-446e-a414-67ea93b45433",
   "metadata": {},
   "outputs": [],
   "source": []
  },
  {
   "cell_type": "code",
   "execution_count": null,
   "id": "028f2da2-dc3a-4c0c-bdba-5ec3fd0e8889",
   "metadata": {},
   "outputs": [],
   "source": []
  }
 ],
 "metadata": {
  "kernelspec": {
   "display_name": "Python 3 (ipykernel)",
   "language": "python",
   "name": "python3"
  },
  "language_info": {
   "codemirror_mode": {
    "name": "ipython",
    "version": 3
   },
   "file_extension": ".py",
   "mimetype": "text/x-python",
   "name": "python",
   "nbconvert_exporter": "python",
   "pygments_lexer": "ipython3",
   "version": "3.9.13"
  }
 },
 "nbformat": 4,
 "nbformat_minor": 5
}
